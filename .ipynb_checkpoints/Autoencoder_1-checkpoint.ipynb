{
 "cells": [
  {
   "cell_type": "markdown",
   "metadata": {},
   "source": [
    "Tester\n",
    "\n",
    "### Subgoals:\n",
    "Import the files - done<br>\n",
    "Get the instruments and notes - done<br>\n",
    "Split into something-second intervals"
   ]
  },
  {
   "cell_type": "code",
   "execution_count": 23,
   "metadata": {},
   "outputs": [],
   "source": [
    "import torchaudio, pretty_midi, matplotlib.pyplot as plt, numpy as np, pandas as pd\n",
    "from os import listdir"
   ]
  },
  {
   "cell_type": "code",
   "execution_count": 36,
   "metadata": {},
   "outputs": [],
   "source": [
    "#download using pretty_midi pip install pretty_midi\n",
    "#conda install dies for some reason\n",
    "\n",
    "#stealing idea from https://towardsdatascience.com/generate-piano-instrumental-music-by-using-deep-learning-80ac35cdbd2e\n",
    "#stealing code from https://craffel.github.io/pretty-midi/\n",
    "#stealing code from https://nbviewer.jupyter.org/github/craffel/pretty-midi/blob/master/Tutorial.ipynb"
   ]
  },
  {
   "cell_type": "code",
   "execution_count": 65,
   "metadata": {},
   "outputs": [
    {
     "name": "stdout",
     "output_type": "stream",
     "text": [
      "Importing 3LAU feat. Bright Lights - How You Love Me  (midi by Carlo Prato) (www.cprato.com).mid...\r",
      "Importing Above & Beyond - Tri-state  (midi by Carlo Prato) (www.cprato.com).mid...\r",
      "Importing Above & Beyond - We're All We Need (Original Mix) (midi by Carlo Prato) (www.cprato.com).mid...\r",
      "Importing Above & Beyond feat. Alex Vargas - Blue Sky Action  (midi by Carlo Prato) (www.cprato.com).mid...\r",
      "Importing Adam F - Circles  (midi by Carlo Prato) (www.cprato.com).mid...\r",
      "Importing Aether & Enzalla - Elysia's Heart  (midi by Carlo Prato) (www.cprato.com).mid...\r",
      "Importing Afrojack & David Guetta - Another Life  (midi by Carlo Prato) (www.cprato.com).mid...\r",
      "Importing Alan Walker - Alone  (midi by Carlo Prato) (www.cprato.com).mid...\r"
     ]
    },
    {
     "name": "stderr",
     "output_type": "stream",
     "text": [
      "C:\\ProgramData\\Miniconda3\\lib\\site-packages\\pretty_midi\\pretty_midi.py:97: RuntimeWarning: Tempo, Key or Time signature change events found on non-zero tracks.  This is not a valid type 0 or type 1 MIDI file.  Tempo, Key or Time Signature may be wrong.\n",
      "  warnings.warn(\n"
     ]
    },
    {
     "name": "stdout",
     "output_type": "stream",
     "text": [
      "Importing Sandstorm - Darude  (midi by Carlo Prato) (www.cprato.com).mid... by Carlo Prato) (www.cprato.com).mid...id...rato.com).mid.....\r"
     ]
    },
    {
     "data": {
      "text/plain": [
       "177"
      ]
     },
     "execution_count": 65,
     "metadata": {},
     "output_type": "execute_result"
    }
   ],
   "source": [
    "#importing the MiDi files\n",
    "x = 0\n",
    "songLst = []\n",
    "instruments = {}\n",
    "for file in listdir('MiDi/'):\n",
    "    print('Importing {}...'.format(file), end = '\\r')\n",
    "    f = pretty_midi.PrettyMIDI('MiDi/'+file)\n",
    "    songLst.append(f)\n",
    "    for inst in temp.instruments:\n",
    "        instruments[inst] = 1\n",
    "len(songLst)"
   ]
  },
  {
   "cell_type": "code",
   "execution_count": 42,
   "metadata": {},
   "outputs": [
    {
     "data": {
      "text/plain": [
       "[Instrument(program=81, is_drum=False, name=\"Lead\"),\n",
       " Instrument(program=0, is_drum=False, name=\"Piano\"),\n",
       " Instrument(program=87, is_drum=False, name=\"Bass\"),\n",
       " Instrument(program=0, is_drum=True, name=\"Drums\")]"
      ]
     },
     "metadata": {},
     "output_type": "display_data"
    },
    {
     "data": {
      "text/plain": [
       "array([ 0. ,  0.5,  1. ,  1.5,  2. ,  2.5,  3. ,  3.5,  4. ,  4.5,  5. ,\n",
       "        5.5,  6. ,  6.5,  7. ,  7.5,  8. ,  8.5,  9. ,  9.5, 10. , 10.5,\n",
       "       11. , 11.5, 12. , 12.5, 13. , 13.5, 14. , 14.5, 15. , 15.5, 16. ,\n",
       "       16.5, 17. , 17.5, 18. , 18.5, 19. , 19.5, 20. , 20.5, 21. , 21.5,\n",
       "       22. , 22.5, 23. , 23.5, 24. , 24.5, 25. , 25.5, 26. , 26.5, 27. ,\n",
       "       27.5, 28. , 28.5, 29. , 29.5, 30. , 30.5, 31. , 31.5, 32. , 32.5,\n",
       "       33. , 33.5, 34. , 34.5, 35. , 35.5, 36. , 36.5, 37. , 37.5, 38. ,\n",
       "       38.5, 39. , 39.5, 40. , 40.5, 41. , 41.5, 42. , 42.5, 43. , 43.5,\n",
       "       44. , 44.5, 45. , 45.5, 46. , 46.5, 47. , 47.5, 48. , 48.5, 49. ,\n",
       "       49.5, 50. ])"
      ]
     },
     "metadata": {},
     "output_type": "display_data"
    },
    {
     "data": {
      "text/plain": [
       "150.0"
      ]
     },
     "metadata": {},
     "output_type": "display_data"
    },
    {
     "name": "stdout",
     "output_type": "stream",
     "text": [
      "Instrument 0 has 132 notes\n",
      "Instrument 1 has 7 pitch bends\n",
      "Instrument 3 has 32 control changes\n",
      "[500. 500. 500. ...   0.   0.   0.]\n",
      "(5000,)\n"
     ]
    }
   ],
   "source": [
    "temp = songLst[2]\n",
    "display(temp.instruments)\n",
    "display(temp.get_beats())\n",
    "display(temp.estimate_tempo())\n",
    "print('Instrument 0 has {} notes'.format(len(temp.instruments[0].notes)))\n",
    "print('Instrument 1 has {} pitch bends'.format(len(temp.instruments[1].pitch_bends)))\n",
    "print('Instrument 3 has {} control changes'.format(len(temp.instruments[3].control_changes)))\n",
    "x = temp.get_chroma()\n",
    "print(sum(x))\n",
    "print(sum(x).shape)"
   ]
  },
  {
   "cell_type": "code",
   "execution_count": 21,
   "metadata": {},
   "outputs": [
    {
     "name": "stdout",
     "output_type": "stream",
     "text": [
      "There are 1 time signature changes\n",
      "There are 4 instruments\n",
      "Instrument 0 has 132 notes\n",
      "Instrument 1 has 7 pitch bends\n",
      "Instrument 3 has 32 control changes\n"
     ]
    }
   ],
   "source": [
    "pm = songLst[2]\n",
    "print('There are {} time signature changes'.format(len(pm.time_signature_changes)))\n",
    "print('There are {} instruments'.format(len(pm.instruments)))"
   ]
  },
  {
   "cell_type": "code",
   "execution_count": 64,
   "metadata": {},
   "outputs": [
    {
     "name": "stdout",
     "output_type": "stream",
     "text": [
      "16.0 16.5\n",
      "0.0 2.0\n",
      "16.0 16.5\n",
      "16.0 16.25\n"
     ]
    }
   ],
   "source": [
    "for i in temp.instruments: #displaying the start and end time of \n",
    "    print(i.notes[0].start, i.notes[0].end)"
   ]
  },
  {
   "cell_type": "code",
   "execution_count": 55,
   "metadata": {},
   "outputs": [
    {
     "ename": "IndexError",
     "evalue": "list index out of range",
     "output_type": "error",
     "traceback": [
      "\u001b[1;31m---------------------------------------------------------------------------\u001b[0m",
      "\u001b[1;31mIndexError\u001b[0m                                Traceback (most recent call last)",
      "\u001b[1;32m<ipython-input-55-519e72d51ff7>\u001b[0m in \u001b[0;36m<module>\u001b[1;34m\u001b[0m\n\u001b[1;32m----> 1\u001b[1;33m \u001b[0mprint\u001b[0m\u001b[1;33m(\u001b[0m\u001b[0mtemp\u001b[0m\u001b[1;33m.\u001b[0m\u001b[0minstruments\u001b[0m\u001b[1;33m[\u001b[0m\u001b[1;36m4\u001b[0m\u001b[1;33m]\u001b[0m\u001b[1;33m.\u001b[0m\u001b[0mpitch_bends\u001b[0m\u001b[1;33m)\u001b[0m\u001b[1;33m\u001b[0m\u001b[1;33m\u001b[0m\u001b[0m\n\u001b[0m",
      "\u001b[1;31mIndexError\u001b[0m: list index out of range"
     ]
    }
   ],
   "source": [
    "print(temp.instruments[4].pitch_bends)"
   ]
  },
  {
   "cell_type": "code",
   "execution_count": null,
   "metadata": {},
   "outputs": [],
   "source": []
  }
 ],
 "metadata": {
  "kernelspec": {
   "display_name": "Python 3",
   "language": "python",
   "name": "python3"
  },
  "language_info": {
   "codemirror_mode": {
    "name": "ipython",
    "version": 3
   },
   "file_extension": ".py",
   "mimetype": "text/x-python",
   "name": "python",
   "nbconvert_exporter": "python",
   "pygments_lexer": "ipython3",
   "version": "3.8.5"
  }
 },
 "nbformat": 4,
 "nbformat_minor": 4
}
